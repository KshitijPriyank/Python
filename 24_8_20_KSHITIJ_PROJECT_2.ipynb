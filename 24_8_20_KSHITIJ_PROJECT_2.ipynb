{
  "nbformat": 4,
  "nbformat_minor": 0,
  "metadata": {
    "colab": {
      "provenance": [],
      "include_colab_link": true
    },
    "kernelspec": {
      "name": "python3",
      "display_name": "Python 3"
    }
  },
  "cells": [
    {
      "cell_type": "markdown",
      "metadata": {
        "id": "view-in-github",
        "colab_type": "text"
      },
      "source": [
        "<a href=\"https://colab.research.google.com/github/KshitijPriyank/Python/blob/main/24_8_20_KSHITIJ_PROJECT_2.ipynb\" target=\"_parent\"><img src=\"https://colab.research.google.com/assets/colab-badge.svg\" alt=\"Open In Colab\"/></a>"
      ]
    },
    {
      "cell_type": "markdown",
      "metadata": {
        "id": "ZHNRptlaekVf"
      },
      "source": [
        "***ACTIVITY 1:-***"
      ]
    },
    {
      "cell_type": "code",
      "metadata": {
        "id": "Lzmn0Dhxelkd",
        "colab": {
          "base_uri": "https://localhost:8080/",
          "height": 374
        },
        "outputId": "e9d7e16f-3dec-47fd-efb7-33f7e0044f80"
      },
      "source": [
        "#Activity 1: Print Even Numbers from 60 - 100\n",
        "evennumber=60\n",
        "while evennumber<100:\n",
        "  print(evennumber)\n",
        "  evennumber=evennumber+2\n",
        "  #print(evennumber)\n",
        "print('And these are your even numbers between 60 and 100! ')"
      ],
      "execution_count": null,
      "outputs": [
        {
          "output_type": "stream",
          "text": [
            "60\n",
            "62\n",
            "64\n",
            "66\n",
            "68\n",
            "70\n",
            "72\n",
            "74\n",
            "76\n",
            "78\n",
            "80\n",
            "82\n",
            "84\n",
            "86\n",
            "88\n",
            "90\n",
            "92\n",
            "94\n",
            "96\n",
            "98\n",
            "And these are your even numbers between 60 and 100! \n"
          ],
          "name": "stdout"
        }
      ]
    },
    {
      "cell_type": "markdown",
      "metadata": {
        "id": "oziaBvXRfOah"
      },
      "source": [
        "***ACTIVITY 2:-***"
      ]
    },
    {
      "cell_type": "code",
      "metadata": {
        "id": "QbZWcQz4fUZu",
        "colab": {
          "base_uri": "https://localhost:8080/",
          "height": 51
        },
        "outputId": "b7990527-fdf9-41e5-9e72-65332d683192"
      },
      "source": [
        "#Activity 2: Add Natural Numbers upto n\n",
        "playerinput=input('enter between 10 to 20')\n",
        "playerinput=int(playerinput)\n",
        "while playerinput<10 or playerinput>20:\n",
        "  print('enter a number between 10 and 20')\n",
        "  playerinput=input('enter a number between 10 and 20')\n",
        "count=1\n",
        "variable=0\n",
        "while count<=playerinput:\n",
        "  variable=variable+count\n",
        "  count=count+1\n",
        "print(variable)"
      ],
      "execution_count": null,
      "outputs": [
        {
          "output_type": "stream",
          "text": [
            "enter between 10 to 2012\n",
            "78\n"
          ],
          "name": "stdout"
        }
      ]
    },
    {
      "cell_type": "markdown",
      "metadata": {
        "id": "4zHCDNtGjsjt"
      },
      "source": [
        "***ACTIVITY 3:-***"
      ]
    },
    {
      "cell_type": "code",
      "metadata": {
        "id": "1X_hw1iijyog",
        "colab": {
          "base_uri": "https://localhost:8080/",
          "height": 204
        },
        "outputId": "45e204f2-248c-4e05-dcbf-2af41faefb0e"
      },
      "source": [
        "#Activity 3: Print Multiples of a Number\n",
        "playerinput=input(' enter an number between 10 to 20 ')\n",
        "num=int(playerinput)\n",
        "while num<10 or num>20:\n",
        "  print('enter a nuber between 10 and 20')\n",
        "  num=input('enter a number between 10 and 20')\n",
        "multiple=num\n",
        "count=1\n",
        "while count<=10:\n",
        "  print(num)\n",
        "  num=num+multiple\n",
        "  count=count+1\n",
        ""
      ],
      "execution_count": null,
      "outputs": [
        {
          "output_type": "stream",
          "text": [
            " enter an number between 10 to 20 11\n",
            "11\n",
            "22\n",
            "33\n",
            "44\n",
            "55\n",
            "66\n",
            "77\n",
            "88\n",
            "99\n",
            "110\n"
          ],
          "name": "stdout"
        }
      ]
    },
    {
      "cell_type": "markdown",
      "metadata": {
        "id": "YZnBY81YDCCr"
      },
      "source": [
        "### Instructions"
      ]
    },
    {
      "cell_type": "markdown",
      "metadata": {
        "id": "bEyBzxYRhrLG"
      },
      "source": [
        "#### Goal of the Project\n",
        "\n",
        "This project is designed for you to practice and solve the activities that are based on the concepts covered in the following lessons:\n",
        "\n",
        "1. Variables and Data-types.\n",
        "\n",
        "2. While Loop, Data-Type Conversion and Conditional Statements.\n"
      ]
    },
    {
      "cell_type": "markdown",
      "metadata": {
        "id": "DPOFIO3EHncO"
      },
      "source": [
        "---"
      ]
    },
    {
      "cell_type": "markdown",
      "metadata": {
        "id": "krym8CeMhscq"
      },
      "source": [
        "#### Getting Started:\n",
        "\n",
        "1. Click on this link to open the Colab file for this project.\n",
        "\n",
        "    https://colab.research.google.com/drive/1z_da3MR4F22ffPJQ2zx8Nhr0YaUVrokV?usp=sharing\n",
        "\n",
        "2. Create a duplicate copy of the Colab file as described below.\n",
        "\n",
        "  - Click on the **File menu**. A new drop-down list will appear.\n",
        "\n",
        "   <img src='https://student-datasets-bucket.s3.ap-south-1.amazonaws.com/images/lesson-0/0_file_menu.png' width=500>\n",
        "\n",
        "  - Click on the **Save a copy in Drive** option. A duplicate copy will get created. It will open up in the new tab on your web browser.\n",
        "\n",
        "  <img src='https://student-datasets-bucket.s3.ap-south-1.amazonaws.com/images/lesson-0/1_create_colab_duplicate_copy.png' width=500>\n",
        "\n",
        "3. After creating the duplicate copy of the notebook, please rename it in the **YYYY-MM-DD_StudentName_Project2** format.\n",
        "\n",
        "4. Now, write your code in the prescribed code cells.\n"
      ]
    },
    {
      "cell_type": "markdown",
      "metadata": {
        "id": "BBqkpH4_Doqe"
      },
      "source": [
        "---"
      ]
    },
    {
      "cell_type": "markdown",
      "metadata": {
        "id": "q4fH06mIjuK3"
      },
      "source": [
        "#### Activity 1: Print Even Numbers from 60 - 100\n",
        "\n",
        "Here you need to print all the even numbers from 60 - 100 (including both 60 and 100) using `while` loop.\n",
        "\n",
        "Follow the steps given below to achieve the desired result:\n",
        "\n",
        "- **Step 1**: Store the starting number i.e. `60` in a variable `num`.\n",
        "\n",
        "- **Step 2**: Define the condition for `while` loop. This loop must be executed till the value stored in variable `num` is less than or equal to `100`.\n",
        "\n",
        "- **Step 3**: Inside a `while` loop, first print the value stored in `num`, then increment the value of `num` by `2` to print the next even number.\n",
        "\n"
      ]
    },
    {
      "cell_type": "code",
      "metadata": {
        "id": "4EAoTskqg041"
      },
      "source": [
        "# Print Even numbers from 60 - 100\n"
      ],
      "execution_count": null,
      "outputs": []
    },
    {
      "cell_type": "markdown",
      "metadata": {
        "id": "xJlPs9X9oeRw"
      },
      "source": [
        "---"
      ]
    },
    {
      "cell_type": "markdown",
      "metadata": {
        "id": "qA-b1CdeofKc"
      },
      "source": [
        "#### Activity 2: Add Natural Numbers upto `n`\n",
        "\n",
        "Here you need to print the sum of natural numbers upto a limit `n` using a `while` loop.  \n",
        "\n",
        "Suppose `n` is any number taken from a user in a range between 10 - 20. You need to print the sum of natural numbers till `n`.\n",
        "\n",
        "For example: if `n = 10`, then `result` = 1 + 2 + 3 +\n",
        "….. 9 + 10, i.e. 55.\n",
        "\n",
        "If the user enters a number which is not in the range of 10 to 20, then force the user to enter a number between 10 to 20.\n",
        "\n",
        "Follow the steps given below to achieve the desired result:\n",
        "\n",
        "  - **Step 1**: Ask the user to enter a number between 10 - 20 and store it in a variable `n`.\n",
        "\n",
        "  - **Step 2**: Convert the data type of user input to integer and store it in a variable `user_input`.\n",
        "\n",
        "  - **Step 3**: Check whether the user has entered a number in a range between 10 - 20 using a `while` loop and logical `or` operator.\n",
        "  \n",
        "  The `or` operator returns `True` if any one or both the conditions are True. For example: 5 < 4 **or** 5 < 6 → Returns `True` as 5 < 6 is `True`.\n",
        "  \n",
        "  Here, we will use `or` operator to check whether the user input is less than 10 **OR** greater than 20. If it is, then repeat Step 1 and Step 2 unless the user enters a number only between 10 - 20.\n",
        "    \n",
        "   \n",
        "\n",
        "  - **Step 4**: Initialize two variables:\n",
        "\n",
        "    1. `result` = 0 (To store the sum of natural numbers)\n",
        "    \n",
        "    2. `count` = 1 (To make sure the `while` loop is executed upto `n`)\n",
        "\n",
        "  - **Step 5**: Calculate the sum of natural numbers in a `while` loop and store it in `result` variable. Increment the value of count each time the loop is executed.\n",
        "\n",
        "  - **Step 6**: Print the result. (Print the value of `result` variable)"
      ]
    },
    {
      "cell_type": "code",
      "metadata": {
        "id": "AtvPTG3kpBoS"
      },
      "source": [
        "# Print the sum of natural numbers upto n\n",
        "# Step 1: Get the input from user to enter a number between 10 - 20 and store it in a variable 'n'\n",
        "\n",
        "\n",
        "# Step 2: Convert the data type of user input to integer and store it in a variable 'user_input'\n",
        "\n",
        "\n",
        "# Step 3: Check whether the user has entered a number in a range between 10 - 20 using a while loop.\n",
        "\n",
        "\n",
        "\n",
        "# Step 4: Initialize two variables 'result = 0' and 'count = 1'\n",
        "\n",
        "\n",
        "# Step 5: Calculate the sum of the natural numbers till n using a while loop and store it in 'result' variable.\n",
        "# Increment the value of 'count'\n",
        "\n",
        "\n",
        "# Step 6 : Print the result\n",
        "\n"
      ],
      "execution_count": null,
      "outputs": []
    },
    {
      "cell_type": "markdown",
      "metadata": {
        "id": "KOVBiUSMzut1"
      },
      "source": [
        "---"
      ]
    },
    {
      "cell_type": "markdown",
      "metadata": {
        "id": "omNV0VCwzzNK"
      },
      "source": [
        "#### Activity 3: Print Multiples of a Number\n",
        "\n",
        "Here you need to print the first 10 multiples of any number using a `while` loop.\n",
        "\n",
        "You should get the number as an input from the user.\n",
        "\n",
        "For example: if the user enters `2` then the first 10 multiples of `2` are 2, 4, 6, 8, 10, 12, 14, 16, 18 and 20.\n",
        "\n",
        "Follow the steps given below to achieve the desired result:\n",
        "\n",
        "  - **Step 1**: Ask the user to enter a number between 10 - 20 and store it in a variable `user_input`.\n",
        "\n",
        "  - **Step 2**: Convert the data type of user input to integer and store it in a variable `num`.\n",
        "\n",
        "  - **Step 3**: Initialize two variables\n",
        "\n",
        "    1. `multiple` = `num` (multiple of a number always starts with the number itself).\n",
        "    \n",
        "    2. `count` = 1 (This variable is used to make sure that the `while` loop is executed only upto 10, starting from 1).\n",
        "\n",
        "  - **Step 4** : Create a `while` loop. In the `while` loop, print `num` and then calculate the multiple of the number by adding the value stored in `num` and `multiple` variables and store it in variable `num`. Increment the value of `count` each time the loop is executed."
      ]
    },
    {
      "cell_type": "code",
      "metadata": {
        "id": "3ekesgnN2ELc"
      },
      "source": [
        "# Print the first 10 multiples of a number\n",
        "# Step 1 : Get the input from user to enter a number between 10 - 20 and store it in variable 'user_input'\n",
        "\n",
        "\n",
        "# Step 2 : Convert the data type of user input to integer and store it in a variable 'num'\n",
        "\n",
        "\n",
        "# Step 3 :  Initialize two variables 'multiple' and 'count'\n",
        "\n",
        "\n",
        "# Step 4 - while loop will repeat itself as long as count <= 10 remains True\n",
        "\n"
      ],
      "execution_count": null,
      "outputs": []
    },
    {
      "cell_type": "markdown",
      "metadata": {
        "id": "QQw2Bqml3ZN0"
      },
      "source": [
        "---"
      ]
    },
    {
      "cell_type": "markdown",
      "metadata": {
        "id": "2zrpyFDCQm3i"
      },
      "source": [
        "### Submitting the Project:\n",
        "\n",
        "1. After finishing the project, click on the **Share** button on the top right corner of the notebook. A new dialog box will appear.\n",
        "\n",
        "  <img src='https://student-datasets-bucket.s3.ap-south-1.amazonaws.com/images/project-share-images/2_share_button.png' width=500>\n",
        "\n",
        "2. In the dialog box, make sure that '**Anyone on the Internet with this link can view**' option is selected and then click on the **Copy link** button.\n",
        "\n",
        "   <img src='https://student-datasets-bucket.s3.ap-south-1.amazonaws.com/images/project-share-images/3_copy_link.png' width=500>\n",
        "\n",
        "3. The link of the duplicate copy (named as **YYYY-MM-DD_StudentName_Project2**) of the notebook will get copied\n",
        "\n",
        "   <img src='https://student-datasets-bucket.s3.ap-south-1.amazonaws.com/images/project-share-images/4_copy_link_confirmation.png' width=500>\n",
        "\n",
        "4. Go to your dashboard and click on the **My Projects** option.\n",
        "   \n",
        "   <img src='https://student-datasets-bucket.s3.ap-south-1.amazonaws.com/images/project-share-images/5_student_dashboard.png' width=800>\n",
        "\n",
        "  <img src='https://student-datasets-bucket.s3.ap-south-1.amazonaws.com/images/project-share-images/6_my_projects.png' width=800>\n",
        "\n",
        "5. Click on the **View Project** button for the project you want to submit.\n",
        "\n",
        "   <img src='https://student-datasets-bucket.s3.ap-south-1.amazonaws.com/images/project-share-images/7_view_project.png' width=800>\n",
        "\n",
        "6. Click on the **Submit Project Here** button.\n",
        "\n",
        "   <img src='https://student-datasets-bucket.s3.ap-south-1.amazonaws.com/images/project-share-images/8_submit_project.png' width=800>\n",
        "\n",
        "7. Paste the link to the project file named as **YYYY-MM-DD_StudentName_Project2** in the URL box and then click on the **Submit** button.\n",
        "\n",
        "   <img src='https://student-datasets-bucket.s3.ap-south-1.amazonaws.com/images/project-share-images/9_enter_project_url.png' width=800>"
      ]
    },
    {
      "cell_type": "markdown",
      "metadata": {
        "id": "HSz7jRSlGxIO"
      },
      "source": [
        "---"
      ]
    }
  ]
}