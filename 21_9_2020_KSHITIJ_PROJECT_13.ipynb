{
  "nbformat": 4,
  "nbformat_minor": 0,
  "metadata": {
    "colab": {
      "provenance": [],
      "include_colab_link": true
    },
    "kernelspec": {
      "name": "python3",
      "display_name": "Python 3"
    }
  },
  "cells": [
    {
      "cell_type": "markdown",
      "metadata": {
        "id": "view-in-github",
        "colab_type": "text"
      },
      "source": [
        "<a href=\"https://colab.research.google.com/github/KshitijPriyank/Python/blob/main/21_9_2020_KSHITIJ_PROJECT_13.ipynb\" target=\"_parent\"><img src=\"https://colab.research.google.com/assets/colab-badge.svg\" alt=\"Open In Colab\"/></a>"
      ]
    },
    {
      "cell_type": "markdown",
      "metadata": {
        "id": "0kzY1j59pCD-"
      },
      "source": [
        "***ACTIVITY 1.1:-***"
      ]
    },
    {
      "cell_type": "code",
      "metadata": {
        "id": "aq_v5w3ZpESY",
        "outputId": "0837c113-76fd-449e-8d24-a1d4be5c1141",
        "colab": {
          "base_uri": "https://localhost:8080/",
          "height": 706
        }
      },
      "source": [
        "#Activity 1.1: Pandas Series containing Random Integers\n",
        "#Create a Pandas series containing 40 random integers between 130 and 145. Print this series.\n",
        "import pandas as pd\n",
        "import random\n",
        "var = pd.Series([random.randint(130, 146) for i in range(40)])\n",
        "print(\"panda series:\",var)"
      ],
      "execution_count": null,
      "outputs": [
        {
          "output_type": "stream",
          "text": [
            "panda series: 0     133\n",
            "1     134\n",
            "2     138\n",
            "3     141\n",
            "4     141\n",
            "5     144\n",
            "6     132\n",
            "7     139\n",
            "8     143\n",
            "9     136\n",
            "10    135\n",
            "11    141\n",
            "12    131\n",
            "13    146\n",
            "14    131\n",
            "15    133\n",
            "16    140\n",
            "17    145\n",
            "18    130\n",
            "19    136\n",
            "20    141\n",
            "21    139\n",
            "22    143\n",
            "23    141\n",
            "24    144\n",
            "25    143\n",
            "26    139\n",
            "27    138\n",
            "28    138\n",
            "29    141\n",
            "30    136\n",
            "31    137\n",
            "32    136\n",
            "33    139\n",
            "34    133\n",
            "35    143\n",
            "36    131\n",
            "37    134\n",
            "38    134\n",
            "39    139\n",
            "dtype: int64\n"
          ],
          "name": "stdout"
        }
      ]
    },
    {
      "cell_type": "markdown",
      "metadata": {
        "id": "UTBUlr1usYAY"
      },
      "source": [
        "***ACTIVITY 1.2:-***"
      ]
    },
    {
      "cell_type": "code",
      "metadata": {
        "id": "Zv_pJXF3shrK",
        "outputId": "e3652da6-a771-4ac1-fee7-bf4dbbc06f84",
        "colab": {
          "base_uri": "https://localhost:8080/",
          "height": 50
        }
      },
      "source": [
        "#Activity 1.2: Calculate Mean and Median\n",
        "#Calculate the mean value and median value of the above Pandas series.\n",
        "print(\"mean is \",var.mean())\n",
        "print(\"median is \",var.median())"
      ],
      "execution_count": null,
      "outputs": [
        {
          "output_type": "stream",
          "text": [
            "mean is  137.95\n",
            "median is  138.5\n"
          ],
          "name": "stdout"
        }
      ]
    },
    {
      "cell_type": "markdown",
      "metadata": {
        "id": "2L9zsDcdtG2w"
      },
      "source": [
        "***ACTIVITY 1.3:-***"
      ]
    },
    {
      "cell_type": "code",
      "metadata": {
        "id": "sQ4JZ26OtQQw",
        "outputId": "17cff6b8-bd9e-4bf1-aec9-abaa47c473f9",
        "colab": {
          "base_uri": "https://localhost:8080/",
          "height": 50
        }
      },
      "source": [
        "#Activity 1.3: Find Minimum and Maximum\n",
        "#Find the minimum and maximum value in the above Pandas series\n",
        "print(\"min is \",var.min())\n",
        "print(\"max is \",var.max())"
      ],
      "execution_count": null,
      "outputs": [
        {
          "output_type": "stream",
          "text": [
            "min is  130\n",
            "max is  146\n"
          ],
          "name": "stdout"
        }
      ]
    },
    {
      "cell_type": "markdown",
      "metadata": {
        "id": "4hZ2LChwtubV"
      },
      "source": [
        "***ACTIVITY 1.4:-***"
      ]
    },
    {
      "cell_type": "code",
      "metadata": {
        "id": "PvqexBytt0Bc",
        "outputId": "27db734c-560b-42cb-fa36-8fcefc1c7651",
        "colab": {
          "base_uri": "https://localhost:8080/",
          "height": 706
        }
      },
      "source": [
        "#Activity 1.4: Arrange in Descending Order\n",
        "#Arrange the values in descending order and print the last five rows of the series.\n",
        "print(\"the descending values of list\",var.sort_values(ascending=False))"
      ],
      "execution_count": null,
      "outputs": [
        {
          "output_type": "stream",
          "text": [
            "the descending values of list 13    146\n",
            "17    145\n",
            "5     144\n",
            "24    144\n",
            "35    143\n",
            "8     143\n",
            "22    143\n",
            "25    143\n",
            "11    141\n",
            "23    141\n",
            "3     141\n",
            "4     141\n",
            "20    141\n",
            "29    141\n",
            "16    140\n",
            "21    139\n",
            "39    139\n",
            "26    139\n",
            "7     139\n",
            "33    139\n",
            "28    138\n",
            "2     138\n",
            "27    138\n",
            "31    137\n",
            "9     136\n",
            "19    136\n",
            "30    136\n",
            "32    136\n",
            "10    135\n",
            "38    134\n",
            "37    134\n",
            "1     134\n",
            "15    133\n",
            "34    133\n",
            "0     133\n",
            "6     132\n",
            "14    131\n",
            "12    131\n",
            "36    131\n",
            "18    130\n",
            "dtype: int64\n"
          ],
          "name": "stdout"
        }
      ]
    },
    {
      "cell_type": "markdown",
      "metadata": {
        "id": "1pzoPVSjuNSz"
      },
      "source": [
        "***ACTIVITY 2:-***"
      ]
    },
    {
      "cell_type": "code",
      "metadata": {
        "id": "PENcoHZyuQga",
        "outputId": "83fa5bab-c2a6-4447-df40-4fcdedd5f2e6",
        "colab": {
          "base_uri": "https://localhost:8080/",
          "height": 50
        }
      },
      "source": [
        "#Activity 2: Find whether Two Lines are Parallel\n",
        "def parallel_lines(line1,line2):\n",
        "  slope1=line1[0]/line1[1]\n",
        "  slope2=line2[0]/line2[1]\n",
        "  if slope1==slope2:\n",
        "    return True\n",
        "  else:\n",
        "    return False\n",
        "\n",
        "line1=[2,3,4]\n",
        "line2=[4,6,8]\n",
        "print('are lines parallel?')\n",
        "parallel_lines(line1,line2)"
      ],
      "execution_count": null,
      "outputs": [
        {
          "output_type": "stream",
          "text": [
            "are lines parallel\n"
          ],
          "name": "stdout"
        },
        {
          "output_type": "execute_result",
          "data": {
            "text/plain": [
              "True"
            ]
          },
          "metadata": {
            "tags": []
          },
          "execution_count": 1
        }
      ]
    },
    {
      "cell_type": "markdown",
      "metadata": {
        "id": "YZnBY81YDCCr"
      },
      "source": [
        "### Instructions"
      ]
    },
    {
      "cell_type": "markdown",
      "metadata": {
        "id": "bEyBzxYRhrLG"
      },
      "source": [
        "#### Goal of the Project\n",
        "\n",
        "This project is designed for you to practice and solve the activities that are based on the concepts covered in the following lessons:\n",
        "\n",
        "  1.  Python List II\n",
        "  3.  Pandas Series"
      ]
    },
    {
      "cell_type": "markdown",
      "metadata": {
        "id": "DPOFIO3EHncO"
      },
      "source": [
        "---"
      ]
    },
    {
      "cell_type": "markdown",
      "metadata": {
        "id": "bu9uYNNMDzC9"
      },
      "source": [
        "#### Getting Started:\n",
        "\n",
        "1. Click on this link to open the Colab file for this project.\n",
        "\n",
        "     https://colab.research.google.com/drive/1RkKhzVNCjkDoO9JEXGHMr0ucDK4kQN5R?usp=sharing\n",
        "     \n",
        "2. Create a duplicate copy of the Colab file as described below.\n",
        "\n",
        "  - Click on the **File menu**. A new drop-down list will appear.\n",
        "\n",
        "   <img src='https://student-datasets-bucket.s3.ap-south-1.amazonaws.com/images/lesson-0/0_file_menu.png' width=500>\n",
        "\n",
        "  - Click on the **Save a copy in Drive** option. A duplicate copy will get created. It will open up in the new tab on your web browser.\n",
        "\n",
        "  <img src='https://student-datasets-bucket.s3.ap-south-1.amazonaws.com/images/lesson-0/1_create_colab_duplicate_copy.png' width=500>\n",
        "\n",
        "3. After creating the duplicate copy of the notebook, please rename it in the **YYYY-MM-DD_StudentName_Project13** format.\n",
        "\n",
        "4. Now, write your code in the prescribed code cells.\n"
      ]
    },
    {
      "cell_type": "markdown",
      "metadata": {
        "id": "8f6-uc0r9Q4h"
      },
      "source": [
        "### Activities"
      ]
    },
    {
      "cell_type": "markdown",
      "metadata": {
        "id": "q4fH06mIjuK3"
      },
      "source": [
        "#### Activity 1.1: Pandas Series containing Random Integers\n",
        "\n",
        "Create a Pandas series containing 40 random integers between 130 and 145. Print this series."
      ]
    },
    {
      "cell_type": "code",
      "metadata": {
        "id": "4EAoTskqg041"
      },
      "source": [
        "# Create Pandas series\n",
        "\n"
      ],
      "execution_count": null,
      "outputs": []
    },
    {
      "cell_type": "markdown",
      "metadata": {
        "id": "H4JT7cLU21lW"
      },
      "source": [
        "---"
      ]
    },
    {
      "cell_type": "markdown",
      "metadata": {
        "id": "GaClyPgg0QAN"
      },
      "source": [
        "#### Activity 1.2: Calculate Mean and Median\n",
        "\n",
        "Calculate the mean value and median value of the above Pandas series."
      ]
    },
    {
      "cell_type": "code",
      "metadata": {
        "id": "2g8Itdkx0ZX5"
      },
      "source": [
        "# Calculate the mean and median value\n"
      ],
      "execution_count": null,
      "outputs": []
    },
    {
      "cell_type": "markdown",
      "metadata": {
        "id": "2x82_lCI2yzK"
      },
      "source": [
        "---"
      ]
    },
    {
      "cell_type": "markdown",
      "metadata": {
        "id": "GzfCSkUq18qe"
      },
      "source": [
        "#### Activity 1.3: Find Minimum and Maximum\n",
        "\n",
        "Find the minimum and maximum value in the above Pandas series."
      ]
    },
    {
      "cell_type": "code",
      "metadata": {
        "id": "GOnSoo392Bmu"
      },
      "source": [
        "# Find minimum and maximum value in the above Pandas series\n"
      ],
      "execution_count": null,
      "outputs": []
    },
    {
      "cell_type": "markdown",
      "metadata": {
        "id": "--MY5L-z2wFu"
      },
      "source": [
        "---"
      ]
    },
    {
      "cell_type": "markdown",
      "metadata": {
        "id": "yqhCzutD2WQ-"
      },
      "source": [
        "#### Activity 1.4: Arrange in Descending Order\n",
        "\n",
        "Arrange the values in descending order and print the last five rows of the series."
      ]
    },
    {
      "cell_type": "code",
      "metadata": {
        "id": "4c70mF7Y2dID"
      },
      "source": [
        "# Arrange the values in descending order and print the last five rows\n"
      ],
      "execution_count": null,
      "outputs": []
    },
    {
      "cell_type": "markdown",
      "metadata": {
        "id": "xJlPs9X9oeRw"
      },
      "source": [
        "---"
      ]
    },
    {
      "cell_type": "markdown",
      "metadata": {
        "id": "b4aeCDi0pkJz"
      },
      "source": [
        "#### Activity 2: Find whether Two Lines are Parallel\n",
        "\n",
        "Given two lines, determine whether they are parallel or not.\n",
        "Lines are represented using a list [a, b, c] which corresponds to the straight line $ax+by=c$.\n",
        "\n",
        "\n",
        "\n",
        "**Hints:**\n",
        "- Two lines are parallel if their slopes are equal.\n",
        "\n",
        "- A line in the form of $ax+by=c$ has slope $\\frac {-a}{b}$.\n",
        "- Ignore the minus (-) sign. Just calculate $\\frac {a}{b}$ for both lines and find out whether they are equal or not.\n",
        "\n",
        "\n",
        "**Example:**\n",
        "```\n",
        "line1 = [2,3,4]\n",
        "line2 = [4,6,8]\n",
        "\n",
        "Are lines parallel?\n",
        "True\n",
        "```\n",
        ""
      ]
    },
    {
      "cell_type": "code",
      "metadata": {
        "id": "d5ufKLNYzsIl"
      },
      "source": [
        "# Two lines are parallel or not\n"
      ],
      "execution_count": null,
      "outputs": []
    },
    {
      "cell_type": "markdown",
      "metadata": {
        "id": "HSz7jRSlGxIO"
      },
      "source": [
        "---"
      ]
    },
    {
      "cell_type": "markdown",
      "metadata": {
        "id": "1rBGksduD8Fe"
      },
      "source": [
        "### How To Submit The Project\n",
        "\n",
        "Follow the steps described below to submit the project.\n",
        "1. After finishing the project, click on the **Share** button on the top right corner of the notebook. A new dialog box will appear.\n",
        "  <img src='https://student-datasets-bucket.s3.ap-south-1.amazonaws.com/images/project-share-images/2_share_button.png' width=500>\n",
        "2. In the dialog box, click on the **Copy link** button. Make sure that '**Anyone on the Internet with this link can view**' option is selected and then click on the **Copy link** button.\n",
        "\n",
        "   <img src='https://student-datasets-bucket.s3.ap-south-1.amazonaws.com/images/project-share-images/3_copy_link.png' width=500>\n",
        "3. The link of the duplicate copy (named as **YYYY-MM-DD_StudentName_Project13**) of the notebook will get copied\n",
        "   <img src='https://student-datasets-bucket.s3.ap-south-1.amazonaws.com/images/project-share-images/4_copy_link_confirmation.png' width=500>\n",
        "4. Go to your dashboard and click on the **My Projects** option.\n",
        "   <img src='https://student-datasets-bucket.s3.ap-south-1.amazonaws.com/images/project-share-images/5_student_dashboard.png' width=800>\n",
        "   <img src='https://student-datasets-bucket.s3.ap-south-1.amazonaws.com/images/project-share-images/6_my_projects.png' width=800>\n",
        "5. Click on the **View Project** button for the project you want to submit.\n",
        "   <img src='https://student-datasets-bucket.s3.ap-south-1.amazonaws.com/images/project-share-images/7_view_project.png' width=800>\n",
        "6. Click on the **Submit Project Here** button.\n",
        "   <img src='https://student-datasets-bucket.s3.ap-south-1.amazonaws.com/images/project-share-images/8_submit_project.png' width=800>\n",
        "7. Past the link to the project named as **YYYY-MM-DD_StudentName_Project13** in the URL box and then click on the **Submit** button.\n",
        "   <img src='https://student-datasets-bucket.s3.ap-south-1.amazonaws.com/images/project-share-images/9_enter_project_url.png' width=800>\n"
      ]
    },
    {
      "cell_type": "markdown",
      "metadata": {
        "id": "oc4S9JToIZhg"
      },
      "source": [
        "---"
      ]
    }
  ]
}